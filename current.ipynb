{
 "cells": [
  {
   "cell_type": "code",
   "execution_count": 1,
   "metadata": {},
   "outputs": [
    {
     "data": {
      "text/html": [
       "<div>\n",
       "<style scoped>\n",
       "    .dataframe tbody tr th:only-of-type {\n",
       "        vertical-align: middle;\n",
       "    }\n",
       "\n",
       "    .dataframe tbody tr th {\n",
       "        vertical-align: top;\n",
       "    }\n",
       "\n",
       "    .dataframe thead th {\n",
       "        text-align: right;\n",
       "    }\n",
       "</style>\n",
       "<table border=\"1\" class=\"dataframe\">\n",
       "  <thead>\n",
       "    <tr style=\"text-align: right;\">\n",
       "      <th></th>\n",
       "      <th>State</th>\n",
       "      <th>Governor Party</th>\n",
       "      <th>Party</th>\n",
       "      <th>Age</th>\n",
       "      <th>Name</th>\n",
       "    </tr>\n",
       "  </thead>\n",
       "  <tbody>\n",
       "    <tr>\n",
       "      <th>0</th>\n",
       "      <td>al</td>\n",
       "      <td>GOP</td>\n",
       "      <td>GOP</td>\n",
       "      <td>85</td>\n",
       "      <td>Shelby</td>\n",
       "    </tr>\n",
       "    <tr>\n",
       "      <th>1</th>\n",
       "      <td>al</td>\n",
       "      <td>GOP</td>\n",
       "      <td>Dem</td>\n",
       "      <td>65</td>\n",
       "      <td>Jones</td>\n",
       "    </tr>\n",
       "    <tr>\n",
       "      <th>2</th>\n",
       "      <td>ak</td>\n",
       "      <td>GOP</td>\n",
       "      <td>GOP</td>\n",
       "      <td>62</td>\n",
       "      <td>Murkosski</td>\n",
       "    </tr>\n",
       "    <tr>\n",
       "      <th>3</th>\n",
       "      <td>ak</td>\n",
       "      <td>GOP</td>\n",
       "      <td>GOP</td>\n",
       "      <td>55</td>\n",
       "      <td>Sullivan</td>\n",
       "    </tr>\n",
       "    <tr>\n",
       "      <th>4</th>\n",
       "      <td>az</td>\n",
       "      <td>GOP</td>\n",
       "      <td>Dem</td>\n",
       "      <td>43</td>\n",
       "      <td>Sinema</td>\n",
       "    </tr>\n",
       "  </tbody>\n",
       "</table>\n",
       "</div>"
      ],
      "text/plain": [
       "  State Governor Party Party  Age       Name\n",
       "0    al            GOP   GOP   85     Shelby\n",
       "1    al            GOP   Dem   65      Jones\n",
       "2    ak            GOP   GOP   62  Murkosski\n",
       "3    ak            GOP   GOP   55   Sullivan\n",
       "4    az            GOP   Dem   43     Sinema"
      ]
     },
     "execution_count": 1,
     "metadata": {},
     "output_type": "execute_result"
    }
   ],
   "source": [
    "import numpy as np\n",
    "import matplotlib.pyplot as plt\n",
    "import seaborn as sns\n",
    "import pandas as pd\n",
    "from scipy import stats\n",
    "\n",
    "df = pd.read_csv('csv/senate.csv', delimiter=',')\n",
    "df.head()"
   ]
  },
  {
   "cell_type": "code",
   "execution_count": 2,
   "metadata": {},
   "outputs": [
    {
     "data": {
      "image/png": "[encoded data removed]",
      "text/plain": [
       "<Figure size 360x360 with 1 Axes>"
      ]
     },
     "metadata": {
      "needs_background": "light"
     },
     "output_type": "display_data"
    }
   ],
   "source": [
    "sns.catplot(x=\"Party\", y=\"Age\", kind=\"swarm\", data=df)\n",
    "plt.title('All Senators')\n",
    "plt.show()"
   ]
  },
  {
   "cell_type": "code",
   "execution_count": 3,
   "metadata": {},
   "outputs": [
    {
     "data": {
      "text/html": [
       "<div>\n",
       "<style scoped>\n",
       "    .dataframe tbody tr th:only-of-type {\n",
       "        vertical-align: middle;\n",
       "    }\n",
       "\n",
       "    .dataframe tbody tr th {\n",
       "        vertical-align: top;\n",
       "    }\n",
       "\n",
       "    .dataframe thead th {\n",
       "        text-align: right;\n",
       "    }\n",
       "</style>\n",
       "<table border=\"1\" class=\"dataframe\">\n",
       "  <thead>\n",
       "    <tr style=\"text-align: right;\">\n",
       "      <th></th>\n",
       "      <th>State</th>\n",
       "      <th>Governor Party</th>\n",
       "      <th>Party</th>\n",
       "      <th>Age</th>\n",
       "      <th>Name</th>\n",
       "    </tr>\n",
       "  </thead>\n",
       "  <tbody>\n",
       "    <tr>\n",
       "      <th>1</th>\n",
       "      <td>al</td>\n",
       "      <td>GOP</td>\n",
       "      <td>Dem</td>\n",
       "      <td>65</td>\n",
       "      <td>Jones</td>\n",
       "    </tr>\n",
       "    <tr>\n",
       "      <th>4</th>\n",
       "      <td>az</td>\n",
       "      <td>GOP</td>\n",
       "      <td>Dem</td>\n",
       "      <td>43</td>\n",
       "      <td>Sinema</td>\n",
       "    </tr>\n",
       "    <tr>\n",
       "      <th>8</th>\n",
       "      <td>ca</td>\n",
       "      <td>Dem</td>\n",
       "      <td>Dem</td>\n",
       "      <td>86</td>\n",
       "      <td>Feinstein</td>\n",
       "    </tr>\n",
       "    <tr>\n",
       "      <th>9</th>\n",
       "      <td>ca</td>\n",
       "      <td>Dem</td>\n",
       "      <td>Dem</td>\n",
       "      <td>55</td>\n",
       "      <td>Harris</td>\n",
       "    </tr>\n",
       "    <tr>\n",
       "      <th>10</th>\n",
       "      <td>co</td>\n",
       "      <td>Dem</td>\n",
       "      <td>Dem</td>\n",
       "      <td>55</td>\n",
       "      <td>Bennet</td>\n",
       "    </tr>\n",
       "  </tbody>\n",
       "</table>\n",
       "</div>"
      ],
      "text/plain": [
       "   State Governor Party Party  Age       Name\n",
       "1     al            GOP   Dem   65      Jones\n",
       "4     az            GOP   Dem   43     Sinema\n",
       "8     ca            Dem   Dem   86  Feinstein\n",
       "9     ca            Dem   Dem   55     Harris\n",
       "10    co            Dem   Dem   55     Bennet"
      ]
     },
     "execution_count": 3,
     "metadata": {},
     "output_type": "execute_result"
    }
   ],
   "source": [
    "dem = df[(df['Party'] == 'Dem') | (df['Party'] == 'Ind')]\n",
    "dem.head()"
   ]
  },
  {
   "cell_type": "code",
   "execution_count": 4,
   "metadata": {},
   "outputs": [
    {
     "data": {
      "text/html": [
       "<div>\n",
       "<style scoped>\n",
       "    .dataframe tbody tr th:only-of-type {\n",
       "        vertical-align: middle;\n",
       "    }\n",
       "\n",
       "    .dataframe tbody tr th {\n",
       "        vertical-align: top;\n",
       "    }\n",
       "\n",
       "    .dataframe thead th {\n",
       "        text-align: right;\n",
       "    }\n",
       "</style>\n",
       "<table border=\"1\" class=\"dataframe\">\n",
       "  <thead>\n",
       "    <tr style=\"text-align: right;\">\n",
       "      <th></th>\n",
       "      <th>State</th>\n",
       "      <th>Governor Party</th>\n",
       "      <th>Party</th>\n",
       "      <th>Age</th>\n",
       "      <th>Name</th>\n",
       "    </tr>\n",
       "  </thead>\n",
       "  <tbody>\n",
       "    <tr>\n",
       "      <th>0</th>\n",
       "      <td>al</td>\n",
       "      <td>GOP</td>\n",
       "      <td>GOP</td>\n",
       "      <td>85</td>\n",
       "      <td>Shelby</td>\n",
       "    </tr>\n",
       "    <tr>\n",
       "      <th>2</th>\n",
       "      <td>ak</td>\n",
       "      <td>GOP</td>\n",
       "      <td>GOP</td>\n",
       "      <td>62</td>\n",
       "      <td>Murkosski</td>\n",
       "    </tr>\n",
       "    <tr>\n",
       "      <th>3</th>\n",
       "      <td>ak</td>\n",
       "      <td>GOP</td>\n",
       "      <td>GOP</td>\n",
       "      <td>55</td>\n",
       "      <td>Sullivan</td>\n",
       "    </tr>\n",
       "    <tr>\n",
       "      <th>5</th>\n",
       "      <td>az</td>\n",
       "      <td>GOP</td>\n",
       "      <td>GOP</td>\n",
       "      <td>54</td>\n",
       "      <td>McSally</td>\n",
       "    </tr>\n",
       "    <tr>\n",
       "      <th>6</th>\n",
       "      <td>ar</td>\n",
       "      <td>GOP</td>\n",
       "      <td>GOP</td>\n",
       "      <td>69</td>\n",
       "      <td>Boozman</td>\n",
       "    </tr>\n",
       "  </tbody>\n",
       "</table>\n",
       "</div>"
      ],
      "text/plain": [
       "  State Governor Party Party  Age       Name\n",
       "0    al            GOP   GOP   85     Shelby\n",
       "2    ak            GOP   GOP   62  Murkosski\n",
       "3    ak            GOP   GOP   55   Sullivan\n",
       "5    az            GOP   GOP   54    McSally\n",
       "6    ar            GOP   GOP   69    Boozman"
      ]
     },
     "execution_count": 4,
     "metadata": {},
     "output_type": "execute_result"
    }
   ],
   "source": [
    "gop = df[df['Party'] == 'GOP']\n",
    "gop.head()"
   ]
  },
  {
   "cell_type": "code",
   "execution_count": 5,
   "metadata": {},
   "outputs": [
    {
     "data": {
      "image/png": "[encoded data removed]",
      "text/plain": [
       "<Figure size 360x360 with 1 Axes>"
      ]
     },
     "metadata": {
      "needs_background": "light"
     },
     "output_type": "display_data"
    }
   ],
   "source": [
    "sns.catplot(x=\"Governor Party\", y=\"Age\", kind=\"swarm\", data=dem)\n",
    "plt.title('Democratic/Independent Senators')\n",
    "plt.show()"
   ]
  },
  {
   "cell_type": "code",
   "execution_count": 6,
   "metadata": {},
   "outputs": [
    {
     "data": {
      "image/png": "[encoded data removed]",
      "text/plain": [
       "<Figure size 360x360 with 1 Axes>"
      ]
     },
     "metadata": {
      "needs_background": "light"
     },
     "output_type": "display_data"
    }
   ],
   "source": [
    "sns.catplot(x=\"Governor Party\", y=\"Age\", kind=\"swarm\", data=gop)\n",
    "plt.title('GOP Senators')\n",
    "plt.show()"
   ]
  },
  {
   "cell_type": "code",
   "execution_count": null,
   "metadata": {},
   "outputs": [],
   "source": []
  }
 ],
 "metadata": {
  "kernelspec": {
   "display_name": "Python 3",
   "language": "python",
   "name": "python3"
  },
  "language_info": {
   "codemirror_mode": {
    "name": "ipython",
    "version": 3
   },
   "file_extension": ".py",
   "mimetype": "text/x-python",
   "name": "python",
   "nbconvert_exporter": "python",
   "pygments_lexer": "ipython3",
   "version": "3.7.6"
  }
 },
 "nbformat": 4,
 "nbformat_minor": 4
}
